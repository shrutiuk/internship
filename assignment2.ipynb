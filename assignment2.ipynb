{
 "cells": [
  {
   "cell_type": "markdown",
   "id": "52690395",
   "metadata": {},
   "source": [
    "# ASSIGNMENT-2\n",
    " \n",
    "1. Which of the following operators is used to calculate remainder in a division?\n",
    "A)\t#\tB) &\n",
    "C) %\tD) $\n",
    "\n",
    "ANS c\n",
    "\n",
    "2. In python 2//3 is equal to?\n",
    "A) 0.666\tB) 0\n",
    "C) 1\tD) 0.67\n",
    "\n",
    "ANS B\n",
    "\n",
    "3. In python, 6<<2 is equal to?\n",
    "A) 36\tB) 10\n",
    "C) 24\tD) 45\n",
    "\n",
    "ANS C\n",
    "\n",
    "4. In python, 6&2 will give which of the following as output?\n",
    "A) 2\tB) True\n",
    "C) False\tD) 0\n",
    "\n",
    "ANS A\n",
    "\n",
    "5. In python, 6|2 will give which of the following as output?\n",
    "A)\t2\tB) 4\n",
    "C) 0\tD) 6\n",
    "\n",
    "ANS D\n",
    "\n",
    "6. What does the finally keyword denotes in python?\n",
    "A)\tIt is used to mark the end of the code\n",
    "B)\tIt encloses the lines of code which will be executed if any error occurs while executing the lines of code in the try block.\n",
    "C)\tthe finally block will be executed no matter if the try block raises an error or not.\n",
    "D)\tNone of the above\n",
    "\n",
    "ANS C\n",
    "\n",
    "7.\tWhat does raise keyword is used for in python?\n",
    "A)\tIt is used to raise an exception.\tB) It is used to define lambda function\n",
    "C) it's not a keyword in python.\tD) None of the above\n",
    "\n",
    "ANS A\n",
    "\n",
    "8.\tWhich of the following is a common use case of yield keyword in python?\n",
    "A)\tin defining an iterator\tB) while defining a lambda function\n",
    "C) in defining a generator\tD) in for loop.\n",
    "\n",
    "ANS C\n",
    "\n",
    "9.\tWhich of the following are the valid variable names?\n",
    "A)\t_abc\tB) 1abc\n",
    "C) abc2\tD) None of the above\n",
    "\n",
    "ANS A&C\n",
    "\n",
    "10.\tWhich of the following are the keywords in python?\n",
    "A)\tyield\tB) raise\n",
    "C) look-in\tD) all of the above\n",
    "\n",
    "ANS A\n",
    "\n",
    "\n"
   ]
  },
  {
   "cell_type": "markdown",
   "id": "997c23fd",
   "metadata": {},
   "source": [
    "# 11.\tWrite a python program to find the factorial of a number."
   ]
  },
  {
   "cell_type": "code",
   "execution_count": 12,
   "id": "70795b3f",
   "metadata": {},
   "outputs": [
    {
     "name": "stdout",
     "output_type": "stream",
     "text": [
      "Enter a number: 5\n",
      "The factorial of 5 is 1\n",
      "The factorial of 5 is 2\n",
      "The factorial of 5 is 6\n",
      "The factorial of 5 is 24\n",
      "The factorial of 5 is 120\n"
     ]
    }
   ],
   "source": [
    "n= int(input(\"Enter a number: \"))    \n",
    "fact= 1    \n",
    "if n < 0:    \n",
    "    print(\" Factorial does not exist for negative numbers\")    \n",
    "elif n == 0:    \n",
    "    print(\"The factorial of 0 is 1\")    \n",
    "else:    \n",
    "    for i in range(1,n + 1):    \n",
    "        fact = fact*i    \n",
    "        print(\"The factorial of\",n,\"is\",fact)    "
   ]
  },
  {
   "cell_type": "markdown",
   "id": "79b5818d",
   "metadata": {},
   "source": [
    "# 12.\tWrite a python program to find whether a number is prime or composite"
   ]
  },
  {
   "cell_type": "code",
   "execution_count": 14,
   "id": "bbcc392a",
   "metadata": {},
   "outputs": [
    {
     "name": "stdout",
     "output_type": "stream",
     "text": [
      "Enter any number : 32\n",
      "32 is not a prime number\n"
     ]
    }
   ],
   "source": [
    "m = int(input(\"Enter any number : \"))\n",
    "if m > 1:\n",
    "    for i in range(2, m):\n",
    "        if (m % i) == 0:\n",
    "            print(m, \"is not a prime number\")\n",
    "            break   \n",
    "    else:\n",
    "        print(m, \"is a prime number\")\n",
    "elif m == 0 or 1:\n",
    "    print(m, \"is a neither prime nor composite number\")\n",
    "else:\n",
    "    print(m, \"is NOT a prime number it is a composite number\")\n"
   ]
  },
  {
   "cell_type": "markdown",
   "id": "de1fc697",
   "metadata": {},
   "source": [
    "# 13.\tWrite a python program to check whether a given string is palindrome or not."
   ]
  },
  {
   "cell_type": "code",
   "execution_count": 3,
   "id": "a69f1893",
   "metadata": {},
   "outputs": [
    {
     "name": "stdout",
     "output_type": "stream",
     "text": [
      "Enter a letter:did\n",
      "The letter is a palindrome\n"
     ]
    }
   ],
   "source": [
    "str1=input((\"Enter a letter:\"))  \n",
    "if(str1==str1[::-1]):  \n",
    "      print(\"The letter is a palindrome\")  \n",
    "else:  \n",
    "      print(\"The letter is not a palindrome\")  \n",
    "    "
   ]
  },
  {
   "cell_type": "markdown",
   "id": "479cc017",
   "metadata": {},
   "source": [
    "# 14.\tWrite a Python program to get the third side of right-angled triangle from two given sides."
   ]
  },
  {
   "cell_type": "code",
   "execution_count": null,
   "id": "08003550",
   "metadata": {},
   "outputs": [],
   "source": [
    "import math\n",
    "\n",
    "a = float(input(\"Enter base: \"))\n",
    "b = float(input(\"Enter height: \"))\n",
    "x = float(input(\"Enter angle: \"))\n",
    "\n",
    "c = math.sqrt(a ** 2 + b ** 2)\n",
    "\n",
    "print(\"Hypotenuse =\", c)"
   ]
  },
  {
   "cell_type": "markdown",
   "id": "ecd7296d",
   "metadata": {},
   "source": [
    "# 15.\tWrite a python program to print the frequency of each of the characters present in a given string.\n",
    "\n"
   ]
  },
  {
   "cell_type": "code",
   "execution_count": 11,
   "id": "6fc5f4be",
   "metadata": {},
   "outputs": [
    {
     "name": "stdout",
     "output_type": "stream",
     "text": [
      "Characters and their corresponding frequencies\n",
      "p-2\n",
      "y-1\n",
      "t-1\n",
      "o-2\n",
      "n-1\n",
      "r-2\n",
      "g-1\n",
      "m-1\n"
     ]
    }
   ],
   "source": [
    "string = \"pyton progrm\";  \n",
    "freq = [None] * len(string);  \n",
    "   \n",
    "for i in range(0, len(string)):  \n",
    "    freq[i] = 1;  \n",
    "    for j in range(i+1, len(string)):  \n",
    "        if(string[i] == string[j]):  \n",
    "            freq[i] = freq[i] + 1;  \n",
    "            string = string[ : j] + '0' + string[j+1 : ];  \n",
    "              \n",
    "print(\"Characters and their corresponding frequencies\");  \n",
    "for i in range(0, len(freq)):  \n",
    "    if(string[i] != ' ' and string[i] != '0'):  \n",
    "        print(string[i] + \"-\" + str(freq[i])); "
   ]
  },
  {
   "cell_type": "code",
   "execution_count": null,
   "id": "c242fb45",
   "metadata": {},
   "outputs": [],
   "source": []
  }
 ],
 "metadata": {
  "kernelspec": {
   "display_name": "Python 3 (ipykernel)",
   "language": "python",
   "name": "python3"
  },
  "language_info": {
   "codemirror_mode": {
    "name": "ipython",
    "version": 3
   },
   "file_extension": ".py",
   "mimetype": "text/x-python",
   "name": "python",
   "nbconvert_exporter": "python",
   "pygments_lexer": "ipython3",
   "version": "3.11.5"
  }
 },
 "nbformat": 4,
 "nbformat_minor": 5
}
